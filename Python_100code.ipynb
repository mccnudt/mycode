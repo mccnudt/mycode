{
 "cells": [
  {
   "cell_type": "code",
   "execution_count": 16,
   "metadata": {},
   "outputs": [],
   "source": [
    "\"\"\"\n",
    "寻找水仙花数，水仙花数是指一个 3 位数，它的每个位上的数字的 3次幂之和等于它本身（例如：1^3 + 5^3+ 3^3 = 153）。\n",
    "\"\"\"\n",
    "for i in range(100,1000):\n",
    "    #百位数\n",
    "    a=i//100\n",
    "    #十位数\n",
    "    b=(i%100)//10\n",
    "    #个位数\n",
    "    c=i%10\n",
    "    if a**3+b**3+c**3==i:\n",
    "        print(i)"
   ]
  },
  {
   "cell_type": "code",
   "execution_count": 64,
   "metadata": {},
   "outputs": [],
   "source": [
    "\"\"\"\n",
    "寻找完全数，它所有的真因子（即除了自身以外的约数）的和（即因子函数），恰好等于它本身。\n",
    "第一个完全数是6，它有约数1、2、3、6，除去它本身6外，其余3个数相加，1+2+3=6\n",
    "因为VScode不支持输入交互，所以input函数无法使用，默认寻找1000以内的数\n",
    "\"\"\"\n",
    "MAX=10000\n",
    "for i in range(2,MAX):\n",
    "    yin=[1]\n",
    "    for j in range(2,int(i**0.5)+1): \n",
    "        if i%j==0:\n",
    "            yin.append(j)\n",
    "            if j!=int(i/j):\n",
    "                yin.append(int(i/j))\n",
    "    if sum(yin)==i:\n",
    "        print(i)"
   ]
  },
  {
   "cell_type": "code",
   "execution_count": 67,
   "metadata": {},
   "outputs": [
    {
     "name": "stdout",
     "output_type": "stream",
     "text": [
      "1 1 2 3 5 8 13 21 34 55"
     ]
    }
   ],
   "source": [
    "\"\"\"\n",
    "生成斐波那契数列\n",
    "指的是这样一个数列：1、1、2、3、5、8、13、21、34、……在数学上，斐波那契数列以如下被以递推的方法定义：F(1)=1，F(2)=1, F(n)=F(n-1)+F(n-2)（n>=3，n∈N*）\n",
    "\"\"\"\n",
    "def fib(n):\n",
    "        a, b = 1, 1\n",
    "        for i in range(n):\n",
    "                print(a, end=' ')\n",
    "                a, b = b, a+b\n",
    "fib(100) #输出的是100以内的斐波那契数列"
   ]
  },
  {
   "cell_type": "code",
   "execution_count": 6,
   "metadata": {},
   "outputs": [
    {
     "name": "stdout",
     "output_type": "stream",
     "text": [
      "6\n"
     ]
    }
   ],
   "source": [
    "def factorial(n):\n",
    "    result=1\n",
    "    for i in range(1,n+1):\n",
    "        result*=i\n",
    "    return result\n",
    "\n",
    "print(factorial(3))"
   ]
  },
  {
   "cell_type": "code",
   "execution_count": 3,
   "metadata": {},
   "outputs": [],
   "source": [
    "import turtle\n",
    "turtle.pensize(4)"
   ]
  },
  {
   "cell_type": "code",
   "execution_count": 14,
   "metadata": {},
   "outputs": [
    {
     "name": "stdin",
     "output_type": "stream",
     "text": [
      "请输入一个正整数： -4\n",
      "输入错误，请输入正整数： 5\n"
     ]
    },
    {
     "name": "stdout",
     "output_type": "stream",
     "text": [
      "5是一个素数\n"
     ]
    }
   ],
   "source": [
    "\"\"\"\n",
    "输入一个数看是否是素数，素数是指在大于1的自然数中，只能被1和他自己整除\n",
    "\"\"\"\n",
    "num=int(input('请输入一个正整数：'))\n",
    "while num<0:\n",
    "    num=int(input('输入错误，请输入正整数：'))\n",
    "end=int(num**0.5)\n",
    "is_sushu=True\n",
    "for i in range(2,end+1):\n",
    "    if num%i==0:\n",
    "        is_sushu=False\n",
    "        break\n",
    "if is_sushu and num!=1:\n",
    "    print('{}是一个素数'.format(num))\n",
    "else:\n",
    "    print('{}不是一个素数'.format(num))\n",
    "    "
   ]
  },
  {
   "cell_type": "code",
   "execution_count": 6,
   "metadata": {},
   "outputs": [
    {
     "ename": "SyntaxError",
     "evalue": "invalid character in identifier (<ipython-input-6-183890f2d93c>, line 9)",
     "output_type": "error",
     "traceback": [
      "\u001b[0;36m  File \u001b[0;32m\"<ipython-input-6-183890f2d93c>\"\u001b[0;36m, line \u001b[0;32m9\u001b[0m\n\u001b[0;31m    for i in range(2，x+1):\u001b[0m\n\u001b[0m                     ^\u001b[0m\n\u001b[0;31mSyntaxError\u001b[0m\u001b[0;31m:\u001b[0m invalid character in identifier\n"
     ]
    }
   ],
   "source": [
    "'''\n",
    "输入两个正整数，计算最大公约数和最小公倍数\n",
    "'''\n",
    "x=int(input('请输入正整数x：'))\n",
    "y=int(input('请输入正整数y：'))\n",
    "\n",
    "if x>y:\n",
    "    x,y=y,x\n",
    "for i in range(2，x+1):\n",
    "    if x%i==0 and y%i==0:\n",
    "        print('{0}和{1}的最大公约数为{2}'.format(x,y,i))\n",
    "        \n"
   ]
  },
  {
   "cell_type": "code",
   "execution_count": null,
   "metadata": {},
   "outputs": [],
   "source": []
  }
 ],
 "metadata": {
  "file_extension": ".py",
  "kernelspec": {
   "display_name": "Python 3",
   "language": "python",
   "name": "python3"
  },
  "language_info": {
   "codemirror_mode": {
    "name": "ipython",
    "version": 3
   },
   "file_extension": ".py",
   "mimetype": "text/x-python",
   "name": "python",
   "nbconvert_exporter": "python",
   "pygments_lexer": "ipython3",
   "version": "3.6.0"
  },
  "mimetype": "text/x-python",
  "name": "python",
  "npconvert_exporter": "python",
  "pygments_lexer": "ipython3",
  "version": 3
 },
 "nbformat": 4,
 "nbformat_minor": 4
}
